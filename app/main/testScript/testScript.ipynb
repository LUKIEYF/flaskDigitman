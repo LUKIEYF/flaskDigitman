{
 "cells": [
  {
   "cell_type": "code",
   "execution_count": 5,
   "metadata": {},
   "outputs": [],
   "source": [
    "import librosa\n",
    "import numpy as np"
   ]
  },
  {
   "cell_type": "code",
   "execution_count": 6,
   "metadata": {},
   "outputs": [],
   "source": [
    "import time\n",
    "import librosa\n",
    "import pygame\n",
    "from gtts import gTTS\n",
    "\n",
    "def my_tts(text, save_path):\n",
    "    tts = gTTS(text, lang=\"en-US\")\n",
    "    tts.save(save_path)\n",
    "\n",
    "def tts_and_play_audio(text):\n",
    "    tmp_audio_path = 'tmp.mp3'\n",
    "    my_tts(text, tmp_audio_path)\n",
    "    pygame.mixer.init()\n",
    "    pygame.mixer.music.load(tmp_audio_path)  \n",
    "    pygame.mixer.music.set_volume(0.8) \n",
    "\n",
    "    x , sr = librosa.load(tmp_audio_path, sr=8000)\n",
    "    \n",
    "    x = np.log(np.maximum(x, 1e-8)) + 1 \n",
    "    \n",
    "    x = x  - min(x)\n",
    "    x = x  / max(x)\n",
    "    x = np.log(np.maximum(x,1e-8)) + 1 ### got 0 in the frequency, cannot log\n",
    "    x = x  / max(x) * 1.2\n",
    "\n",
    "    pygame.mixer.music.play()\n",
    "    s_time = time.time()\n",
    "    try:\n",
    "        for _ in range(int(len(x) / 800)):\n",
    "            it = x[int((time.time() - s_time) * 8000)+1]\n",
    "            if it < 0:\n",
    "                it = 0\n",
    "            with open(\"tmp.txt\", \"w\") as f:\n",
    "                f.write(str(float(it)))\n",
    "            time.sleep(0.1)\n",
    "    except:\n",
    "        pass\n",
    "\n",
    "    time.sleep(0.1)\n",
    "    with open(\"tmp.txt\", \"w\") as f:\n",
    "        f.write(\"0\")"
   ]
  },
  {
   "cell_type": "code",
   "execution_count": 7,
   "metadata": {},
   "outputs": [],
   "source": [
    "tts_and_play_audio(\"In conclusion, whales are captivating marine mammals that inspire awe and wonder. They are not only vital to marine ecosystems but also serve as ambassadors for the preservation of our planet's precious biodiversity. Understanding and safeguarding these majestic creatures is crucial for the well-being of our oceans and the entire Earth.\")"
   ]
  },
  {
   "cell_type": "code",
   "execution_count": 1,
   "metadata": {},
   "outputs": [
    {
     "name": "stdout",
     "output_type": "stream",
     "text": [
      "pygame 2.5.2 (SDL 2.28.3, Python 3.9.12)\n",
      "Hello from the pygame community. https://www.pygame.org/contribute.html\n"
     ]
    },
    {
     "ename": "AttributeError",
     "evalue": "'gTTS' object has no attribute 'get_bytes'",
     "output_type": "error",
     "traceback": [
      "\u001b[1;31m---------------------------------------------------------------------------\u001b[0m",
      "\u001b[1;31mAttributeError\u001b[0m                            Traceback (most recent call last)",
      "\u001b[1;32md:\\digitMan\\flaskDigitMan\\flask_template\\app\\main\\testScript\\testScript.ipynb Cell 4\u001b[0m line \u001b[0;36m<cell line: 53>\u001b[1;34m()\u001b[0m\n\u001b[0;32m     <a href='vscode-notebook-cell:/d%3A/digitMan/flaskDigitMan/flask_template/app/main/testScript/testScript.ipynb#W3sZmlsZQ%3D%3D?line=49'>50</a>\u001b[0m         \u001b[39mpass\u001b[39;00m\n\u001b[0;32m     <a href='vscode-notebook-cell:/d%3A/digitMan/flaskDigitMan/flask_template/app/main/testScript/testScript.ipynb#W3sZmlsZQ%3D%3D?line=51'>52</a>\u001b[0m \u001b[39m# 调用示例\u001b[39;00m\n\u001b[1;32m---> <a href='vscode-notebook-cell:/d%3A/digitMan/flaskDigitMan/flask_template/app/main/testScript/testScript.ipynb#W3sZmlsZQ%3D%3D?line=52'>53</a>\u001b[0m tts_and_play_audio(\u001b[39m\"\u001b[39;49m\u001b[39mHello, world!\u001b[39;49m\u001b[39m\"\u001b[39;49m)\n",
      "\u001b[1;32md:\\digitMan\\flaskDigitMan\\flask_template\\app\\main\\testScript\\testScript.ipynb Cell 4\u001b[0m line \u001b[0;36mtts_and_play_audio\u001b[1;34m(text)\u001b[0m\n\u001b[0;32m     <a href='vscode-notebook-cell:/d%3A/digitMan/flaskDigitMan/flask_template/app/main/testScript/testScript.ipynb#W3sZmlsZQ%3D%3D?line=11'>12</a>\u001b[0m \u001b[39mdef\u001b[39;00m \u001b[39mtts_and_play_audio\u001b[39m(text):\n\u001b[1;32m---> <a href='vscode-notebook-cell:/d%3A/digitMan/flaskDigitMan/flask_template/app/main/testScript/testScript.ipynb#W3sZmlsZQ%3D%3D?line=12'>13</a>\u001b[0m     audio_data \u001b[39m=\u001b[39m my_tts(text)\n\u001b[0;32m     <a href='vscode-notebook-cell:/d%3A/digitMan/flaskDigitMan/flask_template/app/main/testScript/testScript.ipynb#W3sZmlsZQ%3D%3D?line=13'>14</a>\u001b[0m     pygame\u001b[39m.\u001b[39mmixer\u001b[39m.\u001b[39minit()\n\u001b[0;32m     <a href='vscode-notebook-cell:/d%3A/digitMan/flaskDigitMan/flask_template/app/main/testScript/testScript.ipynb#W3sZmlsZQ%3D%3D?line=14'>15</a>\u001b[0m     pygame\u001b[39m.\u001b[39mmixer\u001b[39m.\u001b[39mmusic\u001b[39m.\u001b[39mload(audio_data)\n",
      "\u001b[1;32md:\\digitMan\\flaskDigitMan\\flask_template\\app\\main\\testScript\\testScript.ipynb Cell 4\u001b[0m line \u001b[0;36mmy_tts\u001b[1;34m(text)\u001b[0m\n\u001b[0;32m      <a href='vscode-notebook-cell:/d%3A/digitMan/flaskDigitMan/flask_template/app/main/testScript/testScript.ipynb#W3sZmlsZQ%3D%3D?line=7'>8</a>\u001b[0m \u001b[39mdef\u001b[39;00m \u001b[39mmy_tts\u001b[39m(text):\n\u001b[0;32m      <a href='vscode-notebook-cell:/d%3A/digitMan/flaskDigitMan/flask_template/app/main/testScript/testScript.ipynb#W3sZmlsZQ%3D%3D?line=8'>9</a>\u001b[0m     tts \u001b[39m=\u001b[39m gTTS(text, lang\u001b[39m=\u001b[39m\u001b[39m\"\u001b[39m\u001b[39men-US\u001b[39m\u001b[39m\"\u001b[39m)\n\u001b[1;32m---> <a href='vscode-notebook-cell:/d%3A/digitMan/flaskDigitMan/flask_template/app/main/testScript/testScript.ipynb#W3sZmlsZQ%3D%3D?line=9'>10</a>\u001b[0m     \u001b[39mreturn\u001b[39;00m tts\u001b[39m.\u001b[39;49mget_bytes()\n",
      "\u001b[1;31mAttributeError\u001b[0m: 'gTTS' object has no attribute 'get_bytes'"
     ]
    }
   ],
   "source": [
    "import os\n",
    "import time\n",
    "import numpy as np\n",
    "import pygame\n",
    "import librosa\n",
    "from gtts import gTTS\n",
    "\n",
    "def my_tts(text):\n",
    "    tts = gTTS(text, lang=\"en-US\")\n",
    "    return tts.get_bytes()\n",
    "\n",
    "def tts_and_play_audio(text):\n",
    "    audio_data = my_tts(text)\n",
    "    pygame.mixer.init()\n",
    "    pygame.mixer.music.load(audio_data)\n",
    "    pygame.mixer.music.set_volume(0.8)\n",
    "\n",
    "    x, sr = librosa.load(audio_data, sr=8000)\n",
    "\n",
    "    x = np.log(np.maximum(x, 1e-8)) + 1\n",
    "\n",
    "    x = x - min(x)\n",
    "    x = x / max(x)\n",
    "    x = np.log(np.maximum(x, 1e-8)) + 1\n",
    "    x = x / max(x) * 1.2\n",
    "\n",
    "    pygame.mixer.music.play()\n",
    "    s_time = time.time()\n",
    "\n",
    "    ###删除上一次的记录\n",
    "    txtPath = \"tmp.txt\"\n",
    "    if os.path.exists(txtPath):\n",
    "        os.remove(txtPath)\n",
    "\n",
    "    try:\n",
    "        res = []\n",
    "        for _ in range(int(len(x) / 800)):\n",
    "            it = x[int((time.time() - s_time) * 8000) + 1]\n",
    "            if it < 0:\n",
    "                it = 0\n",
    "            res.append(str(float(it)))\n",
    "\n",
    "            time.sleep(0.1)\n",
    "\n",
    "        res.append(0)  ### the last moment, close the mouth\n",
    "\n",
    "        with open(txtPath, \"a\") as f:\n",
    "            f.write(res)\n",
    "    except:\n",
    "        pass\n",
    "\n",
    "# 调用示例\n",
    "tts_and_play_audio(\"Hello, world!\")"
   ]
  },
  {
   "cell_type": "code",
   "execution_count": 3,
   "metadata": {},
   "outputs": [
    {
     "name": "stderr",
     "output_type": "stream",
     "text": [
      "WARNING: Ignoring invalid distribution -ymongo (c:\\users\\lukemai\\anaconda3\\lib\\site-packages)\n",
      "WARNING: Ignoring invalid distribution -ymongo (c:\\users\\lukemai\\anaconda3\\lib\\site-packages)\n",
      "WARNING: Ignoring invalid distribution -ymongo (c:\\users\\lukemai\\anaconda3\\lib\\site-packages)\n",
      "WARNING: Ignoring invalid distribution -ymongo (c:\\users\\lukemai\\anaconda3\\lib\\site-packages)\n",
      "WARNING: Ignoring invalid distribution -ymongo (c:\\users\\lukemai\\anaconda3\\lib\\site-packages)\n"
     ]
    },
    {
     "name": "stdout",
     "output_type": "stream",
     "text": [
      "Collecting pyttsx3\n",
      "  Downloading pyttsx3-2.90-py3-none-any.whl (39 kB)\n",
      "Requirement already satisfied: pywin32 in c:\\users\\lukemai\\anaconda3\\lib\\site-packages (from pyttsx3) (302)\n",
      "Requirement already satisfied: comtypes in c:\\users\\lukemai\\anaconda3\\lib\\site-packages (from pyttsx3) (1.1.10)\n",
      "Collecting pypiwin32\n",
      "  Downloading pypiwin32-223-py3-none-any.whl (1.7 kB)\n",
      "Installing collected packages: pypiwin32, pyttsx3\n",
      "Successfully installed pypiwin32-223 pyttsx3-2.90\n"
     ]
    },
    {
     "name": "stderr",
     "output_type": "stream",
     "text": [
      "WARNING: Ignoring invalid distribution -ymongo (c:\\users\\lukemai\\anaconda3\\lib\\site-packages)\n",
      "WARNING: Ignoring invalid distribution -ymongo (c:\\users\\lukemai\\anaconda3\\lib\\site-packages)\n",
      "WARNING: Ignoring invalid distribution -ymongo (c:\\users\\lukemai\\anaconda3\\lib\\site-packages)\n",
      "\n",
      "[notice] A new release of pip available: 22.3.1 -> 23.2.1\n",
      "[notice] To update, run: python.exe -m pip install --upgrade pip\n"
     ]
    }
   ],
   "source": [
    "!pip install pyttsx3"
   ]
  },
  {
   "cell_type": "code",
   "execution_count": 19,
   "metadata": {},
   "outputs": [],
   "source": [
    "import pyttsx3\n",
    "import librosa\n",
    "import numpy as np\n",
    "\n",
    "def text_to_audio(text):\n",
    "    engine = pyttsx3.init()\n",
    "    engine.save_to_file(text, 'temp.wav')  # 将文本保存为临时的 WAV 文件\n",
    "    engine.runAndWait()\n",
    "    \n",
    "    # 使用 librosa 加载音频数据\n",
    "    audio_data, _ = librosa.load('temp.wav', sr=44100)\n",
    "    return audio_data\n",
    "\n",
    "def get_normalized_frequencies(audio_data):\n",
    "    # 计算音频数据的频率\n",
    "    magnitude = np.abs(librosa.stft(audio_data))\n",
    "    frequencies = librosa.core.fft_frequencies(sr=44100)\n",
    "   \n",
    "    # 标准化频率数据\n",
    "    normalized_frequencies = (frequencies.mean(axis=1) - np.min(frequencies.mean(axis=1))) / (np.max(frequencies.mean(axis=1)) - np.min(frequencies.mean(axis=1)))\n",
    "    \n",
    "    return normalized_frequencies\n",
    "\n"
   ]
  },
  {
   "cell_type": "code",
   "execution_count": 20,
   "metadata": {},
   "outputs": [
    {
     "name": "stdout",
     "output_type": "stream",
     "text": [
      "[0.00000000e+00 2.15332031e+01 4.30664062e+01 ... 2.20069336e+04\n",
      " 2.20284668e+04 2.20500000e+04]\n"
     ]
    }
   ],
   "source": [
    "# 调用示例\n",
    "text = \"how are you doing my friend, how was you day? i like eating burger and milk shake from shake shack, i don't know what to say, just say somethings for extending the sentences.\"\n",
    "audio_data = text_to_audio(text)\n",
    "normalized_frequencies = get_normalized_frequencies(audio_data)\n",
    "print(normalized_frequencies)"
   ]
  },
  {
   "cell_type": "code",
   "execution_count": 23,
   "metadata": {},
   "outputs": [
    {
     "data": {
      "text/plain": [
       "1025"
      ]
     },
     "execution_count": 23,
     "metadata": {},
     "output_type": "execute_result"
    }
   ],
   "source": [
    "len(normalized_frequencies)"
   ]
  },
  {
   "cell_type": "code",
   "execution_count": 21,
   "metadata": {},
   "outputs": [
    {
     "data": {
      "text/plain": [
       "array([  0.        ,  21.53320312,  43.06640625,  64.59960938,\n",
       "        86.1328125 , 107.66601562, 129.19921875, 150.73242188,\n",
       "       172.265625  , 193.79882812])"
      ]
     },
     "execution_count": 21,
     "metadata": {},
     "output_type": "execute_result"
    }
   ],
   "source": [
    "normalized_frequencies[:10]"
   ]
  },
  {
   "cell_type": "code",
   "execution_count": 10,
   "metadata": {},
   "outputs": [],
   "source": [
    "result = normalized_frequencies[::10]"
   ]
  },
  {
   "cell_type": "code",
   "execution_count": 11,
   "metadata": {},
   "outputs": [
    {
     "data": {
      "text/plain": [
       "103"
      ]
     },
     "execution_count": 11,
     "metadata": {},
     "output_type": "execute_result"
    }
   ],
   "source": [
    "len(result)"
   ]
  }
 ],
 "metadata": {
  "kernelspec": {
   "display_name": "Python 3",
   "language": "python",
   "name": "python3"
  },
  "language_info": {
   "codemirror_mode": {
    "name": "ipython",
    "version": 3
   },
   "file_extension": ".py",
   "mimetype": "text/x-python",
   "name": "python",
   "nbconvert_exporter": "python",
   "pygments_lexer": "ipython3",
   "version": "3.9.12"
  },
  "orig_nbformat": 4
 },
 "nbformat": 4,
 "nbformat_minor": 2
}
